{
 "cells": [
  {
   "cell_type": "code",
   "execution_count": 1,
   "metadata": {},
   "outputs": [],
   "source": [
    "import cv2\n",
    "import PIL\n",
    "import matplotlib.pylab as plt\n",
    "import glob"
   ]
  },
  {
   "cell_type": "code",
   "execution_count": 10,
   "metadata": {},
   "outputs": [
    {
     "ename": "RuntimeError",
     "evalue": "The following handlers are available to decode the pixel data however they are missing required dependencies: GDCM (req. GDCM), pylibjpeg (req. )",
     "output_type": "error",
     "traceback": [
      "\u001b[0;31m---------------------------------------------------------------------------\u001b[0m",
      "\u001b[0;31mRuntimeError\u001b[0m                              Traceback (most recent call last)",
      "\u001b[1;32m/Users/gnbhavithran/Python_github/Spine_detection_kaggle/SpineCord_GoogleNet.ipynb Cell 2\u001b[0m in \u001b[0;36m<cell line: 7>\u001b[0;34m()\u001b[0m\n\u001b[1;32m     <a href='vscode-notebook-cell:/Users/gnbhavithran/Python_github/Spine_detection_kaggle/SpineCord_GoogleNet.ipynb#W2sZmlsZQ%3D%3D?line=10'>11</a>\u001b[0m ds \u001b[39m=\u001b[39m dicom\u001b[39m.\u001b[39mdcmread(image_path)\n\u001b[1;32m     <a href='vscode-notebook-cell:/Users/gnbhavithran/Python_github/Spine_detection_kaggle/SpineCord_GoogleNet.ipynb#W2sZmlsZQ%3D%3D?line=11'>12</a>\u001b[0m plt\u001b[39m.\u001b[39maxis(\u001b[39m'\u001b[39m\u001b[39moff\u001b[39m\u001b[39m'\u001b[39m)\n\u001b[0;32m---> <a href='vscode-notebook-cell:/Users/gnbhavithran/Python_github/Spine_detection_kaggle/SpineCord_GoogleNet.ipynb#W2sZmlsZQ%3D%3D?line=13'>14</a>\u001b[0m plt\u001b[39m.\u001b[39mimshow(ds\u001b[39m.\u001b[39;49mpixel_array)\n",
      "File \u001b[0;32m~/miniforge3/envs/tensorflow/lib/python3.9/site-packages/pydicom/dataset.py:1887\u001b[0m, in \u001b[0;36mDataset.pixel_array\u001b[0;34m(self)\u001b[0m\n\u001b[1;32m   1872\u001b[0m \u001b[39m@property\u001b[39m\n\u001b[1;32m   1873\u001b[0m \u001b[39mdef\u001b[39;00m \u001b[39mpixel_array\u001b[39m(\u001b[39mself\u001b[39m) \u001b[39m-\u001b[39m\u001b[39m>\u001b[39m \u001b[39m\"\u001b[39m\u001b[39mnumpy.ndarray\u001b[39m\u001b[39m\"\u001b[39m:\n\u001b[1;32m   1874\u001b[0m     \u001b[39m\"\"\"Return the pixel data as a :class:`numpy.ndarray`.\u001b[39;00m\n\u001b[1;32m   1875\u001b[0m \n\u001b[1;32m   1876\u001b[0m \u001b[39m    .. versionchanged:: 1.4\u001b[39;00m\n\u001b[0;32m   (...)\u001b[0m\n\u001b[1;32m   1885\u001b[0m \u001b[39m        :class:`numpy.ndarray`.\u001b[39;00m\n\u001b[1;32m   1886\u001b[0m \u001b[39m    \"\"\"\u001b[39;00m\n\u001b[0;32m-> 1887\u001b[0m     \u001b[39mself\u001b[39;49m\u001b[39m.\u001b[39;49mconvert_pixel_data()\n\u001b[1;32m   1888\u001b[0m     \u001b[39mreturn\u001b[39;00m cast(\u001b[39m\"\u001b[39m\u001b[39mnumpy.ndarray\u001b[39m\u001b[39m\"\u001b[39m, \u001b[39mself\u001b[39m\u001b[39m.\u001b[39m_pixel_array)\n",
      "File \u001b[0;32m~/miniforge3/envs/tensorflow/lib/python3.9/site-packages/pydicom/dataset.py:1444\u001b[0m, in \u001b[0;36mDataset.convert_pixel_data\u001b[0;34m(self, handler_name)\u001b[0m\n\u001b[1;32m   1442\u001b[0m     \u001b[39mself\u001b[39m\u001b[39m.\u001b[39m_convert_pixel_data_using_handler(handler_name)\n\u001b[1;32m   1443\u001b[0m \u001b[39melse\u001b[39;00m:\n\u001b[0;32m-> 1444\u001b[0m     \u001b[39mself\u001b[39;49m\u001b[39m.\u001b[39;49m_convert_pixel_data_without_handler()\n",
      "File \u001b[0;32m~/miniforge3/envs/tensorflow/lib/python3.9/site-packages/pydicom/dataset.py:1531\u001b[0m, in \u001b[0;36mDataset._convert_pixel_data_without_handler\u001b[0;34m(self)\u001b[0m\n\u001b[1;32m   1525\u001b[0m         names \u001b[39m=\u001b[39m [hh_deps[name][\u001b[39m1\u001b[39m] \u001b[39mfor\u001b[39;00m name \u001b[39min\u001b[39;00m missing]\n\u001b[1;32m   1526\u001b[0m         pkg_msg\u001b[39m.\u001b[39mappend(\n\u001b[1;32m   1527\u001b[0m             \u001b[39mf\u001b[39m\u001b[39m\"\u001b[39m\u001b[39m{\u001b[39;00mhh\u001b[39m.\u001b[39mHANDLER_NAME\u001b[39m}\u001b[39;00m\u001b[39m \u001b[39m\u001b[39m\"\u001b[39m\n\u001b[1;32m   1528\u001b[0m             \u001b[39mf\u001b[39m\u001b[39m\"\u001b[39m\u001b[39m(req. \u001b[39m\u001b[39m{\u001b[39;00m\u001b[39m'\u001b[39m\u001b[39m, \u001b[39m\u001b[39m'\u001b[39m\u001b[39m.\u001b[39mjoin(names)\u001b[39m}\u001b[39;00m\u001b[39m)\u001b[39m\u001b[39m\"\u001b[39m\n\u001b[1;32m   1529\u001b[0m         )\n\u001b[0;32m-> 1531\u001b[0m     \u001b[39mraise\u001b[39;00m \u001b[39mRuntimeError\u001b[39;00m(msg \u001b[39m+\u001b[39m \u001b[39m'\u001b[39m\u001b[39m, \u001b[39m\u001b[39m'\u001b[39m\u001b[39m.\u001b[39mjoin(pkg_msg))\n\u001b[1;32m   1533\u001b[0m last_exception \u001b[39m=\u001b[39m \u001b[39mNone\u001b[39;00m\n\u001b[1;32m   1534\u001b[0m \u001b[39mfor\u001b[39;00m handler \u001b[39min\u001b[39;00m available_handlers:\n",
      "\u001b[0;31mRuntimeError\u001b[0m: The following handlers are available to decode the pixel data however they are missing required dependencies: GDCM (req. GDCM), pylibjpeg (req. )"
     ]
    },
    {
     "data": {
      "image/png": "[encoded data removed]",
      "text/plain": [
       "<Figure size 1440x1440 with 1 Axes>"
      ]
     },
     "metadata": {
      "needs_background": "light"
     },
     "output_type": "display_data"
    }
   ],
   "source": [
    "import pydicom as dicom\n",
    "\n",
    "image_file = glob.glob(\"/Users/gnbhavithran/Python_github/Spine_detection_kaggle/rsna-2022-cervical-spine-fracture-detection/train_images/1.2.826.0.1.3680043.14/*\")\n",
    "# image_file\n",
    "plt.figure(figsize=(20, 20))\n",
    "\n",
    "for i in range(28):\n",
    "    ax = plt.subplot(7, 7, i + 1)\n",
    "    # specify your dcm image path\n",
    "    image_path = image_file[i]\n",
    "    ds = dicom.dcmread(image_path)\n",
    "    plt.axis('off')\n",
    "    \n",
    "    plt.imshow(ds.pixel_array)"
   ]
  },
  {
   "cell_type": "code",
   "execution_count": null,
   "metadata": {},
   "outputs": [],
   "source": []
  }
 ],
 "metadata": {
  "kernelspec": {
   "display_name": "Python 3.9.12 ('tensorflow')",
   "language": "python",
   "name": "python3"
  },
  "language_info": {
   "codemirror_mode": {
    "name": "ipython",
    "version": 3
   },
   "file_extension": ".py",
   "mimetype": "text/x-python",
   "name": "python",
   "nbconvert_exporter": "python",
   "pygments_lexer": "ipython3",
   "version": "3.9.12"
  },
  "orig_nbformat": 4,
  "vscode": {
   "interpreter": {
    "hash": "1562034f12021d3d86285e01fbd37d3082c56fe07a36ad01033edc651a59129f"
   }
  }
 },
 "nbformat": 4,
 "nbformat_minor": 2
}
